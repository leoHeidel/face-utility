{
 "cells": [
  {
   "cell_type": "code",
   "execution_count": 1,
   "metadata": {},
   "outputs": [],
   "source": [
    "import pandas as pd\n",
    "import requests\n",
    "import numpy as np\n",
    "import matplotlib.pyplot as plt\n",
    "from PIL import Image\n",
    "import requests\n",
    "from io import BytesIO\n",
    "import cv2\n",
    "from collections import Counter\n",
    "from tqdm import tqdm_notebook"
   ]
  },
  {
   "cell_type": "code",
   "execution_count": 2,
   "metadata": {},
   "outputs": [],
   "source": [
    "safebouru_path = \"../safebooru/all_data.csv\"\n",
    "out_path = \"data/safebouru-faces/\" "
   ]
  },
  {
   "cell_type": "code",
   "execution_count": 3,
   "metadata": {},
   "outputs": [],
   "source": [
    "anime_face_cascade_path = \"../lbpcascade_animeface/lbpcascade_animeface.xml\""
   ]
  },
  {
   "cell_type": "code",
   "execution_count": 4,
   "metadata": {},
   "outputs": [],
   "source": [
    "data = pd.read_csv(safebouru_path)"
   ]
  },
  {
   "cell_type": "code",
   "execution_count": 5,
   "metadata": {},
   "outputs": [],
   "source": [
    "forbidden_tag = [\"drawing\",\n",
    "           \"sketch\",\n",
    "           \"monochrome\"] "
   ]
  },
  {
   "cell_type": "code",
   "execution_count": 6,
   "metadata": {},
   "outputs": [],
   "source": [
    "def im_gen(error_counter, start = 0) :\n",
    "    current_index = start-1\n",
    "    while current_index < len(data) :\n",
    "        current_index += 1\n",
    "        forbiden_tag_seen = False\n",
    "        for tag in forbidden_tag :\n",
    "            if tag in data.iloc[current_index,8] :\n",
    "                forbiden_tag_seen = True\n",
    "                error_counter[\"forbidden_tag\"] += 1\n",
    "        if not forbiden_tag_seen :\n",
    "            url = data.loc[current_index,\"sample_url\"]\n",
    "            response = requests.get(\"http://\" + url[2:])\n",
    "            if response.status_code == 404 :\n",
    "                error_counter[\"404\"] += 1\n",
    "                continue\n",
    "            im = Image.open(BytesIO(response.content))\n",
    "            if im.mode != \"RGB\" :\n",
    "                error_counter[im.mode] += 1\n",
    "                continue\n",
    "            yield im, current_index, data.iloc[current_index,8]"
   ]
  },
  {
   "cell_type": "code",
   "execution_count": 32,
   "metadata": {},
   "outputs": [],
   "source": [
    "def face_gen(error_counter, start = 0) :\n",
    "    gen = im_gen(error_counter, start)\n",
    "    face_cascade = cv2.CascadeClassifier(anime_face_cascade_path)\n",
    "    x_target = 36.3877551\n",
    "    w_target = 104.44897959\n",
    "    y_target = 72.02040816\n",
    "    h_target = 104.44897959\n",
    "    w_final = 198\n",
    "    h_final = 218\n",
    "    for im,idx,tags in gen :\n",
    "        try :\n",
    "            im = np.array(im)\n",
    "            positions = face_cascade.detectMultiScale(im)\n",
    "            for i,pos in enumerate(positions) :\n",
    "                fx,fy,fw,fh = pos\n",
    "                h,w,_ = im.shape\n",
    "                x_start = fx-fw/w_target*x_target\n",
    "                x_end = x_start + fw/w_target*w_final\n",
    "                y_start = fy-fw/w_target*y_target\n",
    "                y_end = y_start + fw/w_target*h_final\n",
    "                x_start,x_end,y_start,y_end = [int(v) for v in (x_start,x_end,y_start,y_end)]\n",
    "                if y_start >= 0 and x_start >= 0 and y_end < h and x_end < w :\n",
    "                    res = im[y_start:y_end,x_start:x_end]\n",
    "                    detected2 = face_cascade.detectMultiScale(res)\n",
    "                    if len(detected2) == 1 :\n",
    "                        if x_end - x_start > w_final :\n",
    "                            yield res, idx, tags\n",
    "                        else :\n",
    "                            error_counter[\"too_small\"] += 1\n",
    "                    else :\n",
    "                        error_counter[\"found_%d_faces\" % len(detected2)] += 1\n",
    "                else :\n",
    "                    error_counter[\"rect_not_in_image\"] += 1\n",
    "        except Exception :\n",
    "            continue"
   ]
  },
  {
   "cell_type": "code",
   "execution_count": 40,
   "metadata": {},
   "outputs": [],
   "source": [
    "def extract_faces(start = 0, number=1000, start_index=0) :\n",
    "    meta_data = []\n",
    "    c = Counter()\n",
    "    gen = face_gen(c, start_index)\n",
    "    current_idx = start\n",
    "    try :\n",
    "        for i in tqdm_notebook(range(number)) :\n",
    "            im, idx, tags = next(gen)\n",
    "            im = Image.fromarray(im)\n",
    "            im = im.resize((198,218))\n",
    "            im.save(out_path + \"{:09d}\".format(current_idx) + \".jpg\")\n",
    "            current_idx+=1\n",
    "            meta_data.append((current_idx,idx,tags))\n",
    "    finally :\n",
    "        print(\"last read:\", current_idx)\n",
    "        df = pd.DataFrame(meta_data, columns=[\"number\",\"idx_in_safebouru\", \"tags\"])\n",
    "        df = df.set_index(\"number\")\n",
    "        df.to_csv(\"{:09d}.csv\".format(start))\n",
    "    return c"
   ]
  },
  {
   "cell_type": "code",
   "execution_count": null,
   "metadata": {
    "scrolled": true
   },
   "outputs": [
    {
     "data": {
      "application/vnd.jupyter.widget-view+json": {
       "model_id": "9fe38bd28d7c4eb0b81495864f1e56c0",
       "version_major": 2,
       "version_minor": 0
      },
      "text/plain": [
       "HBox(children=(IntProgress(value=0, max=50000), HTML(value='')))"
      ]
     },
     "metadata": {},
     "output_type": "display_data"
    },
    {
     "name": "stderr",
     "output_type": "stream",
     "text": [
      "/Data/leo_h/miniconda3/envs/tf2/lib/python3.7/site-packages/PIL/TiffImagePlugin.py:784: UserWarning: Possibly corrupt EXIF data.  Expecting to read 74 bytes but only got 60. Skipping tag 37510\n",
      "  \" Skipping tag %s\" % (size, len(data), tag)\n"
     ]
    }
   ],
   "source": [
    "c = extract_faces(start = 21001, start_index = 77840, number=50000)"
   ]
  },
  {
   "cell_type": "code",
   "execution_count": 24,
   "metadata": {},
   "outputs": [],
   "source": [
    "df = pd.read_csv(\"000000001.csv\")"
   ]
  },
  {
   "cell_type": "code",
   "execution_count": 38,
   "metadata": {},
   "outputs": [],
   "source": [
    "df3 = pd.read_csv(\"000011001.csv\")"
   ]
  },
  {
   "cell_type": "code",
   "execution_count": 39,
   "metadata": {},
   "outputs": [
    {
     "data": {
      "text/html": [
       "<div>\n",
       "<style scoped>\n",
       "    .dataframe tbody tr th:only-of-type {\n",
       "        vertical-align: middle;\n",
       "    }\n",
       "\n",
       "    .dataframe tbody tr th {\n",
       "        vertical-align: top;\n",
       "    }\n",
       "\n",
       "    .dataframe thead th {\n",
       "        text-align: right;\n",
       "    }\n",
       "</style>\n",
       "<table border=\"1\" class=\"dataframe\">\n",
       "  <thead>\n",
       "    <tr style=\"text-align: right;\">\n",
       "      <th></th>\n",
       "      <th>number</th>\n",
       "      <th>idx_in_safebouru</th>\n",
       "      <th>tags</th>\n",
       "    </tr>\n",
       "  </thead>\n",
       "  <tbody>\n",
       "    <tr>\n",
       "      <th>0</th>\n",
       "      <td>11002</td>\n",
       "      <td>43287</td>\n",
       "      <td>battle_angel_alita gally gunnm tagme</td>\n",
       "    </tr>\n",
       "    <tr>\n",
       "      <th>1</th>\n",
       "      <td>11003</td>\n",
       "      <td>43292</td>\n",
       "      <td>fujino_shizuru kuga_natsuki mai-hime tagme</td>\n",
       "    </tr>\n",
       "    <tr>\n",
       "      <th>2</th>\n",
       "      <td>11004</td>\n",
       "      <td>43310</td>\n",
       "      <td>makai_tenshi_jibril tagme</td>\n",
       "    </tr>\n",
       "    <tr>\n",
       "      <th>3</th>\n",
       "      <td>11005</td>\n",
       "      <td>43310</td>\n",
       "      <td>makai_tenshi_jibril tagme</td>\n",
       "    </tr>\n",
       "    <tr>\n",
       "      <th>4</th>\n",
       "      <td>11006</td>\n",
       "      <td>43321</td>\n",
       "      <td>.hack// kunisaki_rena kunisaki_shugo tagme</td>\n",
       "    </tr>\n",
       "    <tr>\n",
       "      <th>...</th>\n",
       "      <td>...</td>\n",
       "      <td>...</td>\n",
       "      <td>...</td>\n",
       "    </tr>\n",
       "    <tr>\n",
       "      <th>9995</th>\n",
       "      <td>20997</td>\n",
       "      <td>77817</td>\n",
       "      <td>bad_id bag brown_eyes brown_hair durarara!! ho...</td>\n",
       "    </tr>\n",
       "    <tr>\n",
       "      <th>9996</th>\n",
       "      <td>20998</td>\n",
       "      <td>77820</td>\n",
       "      <td>animal_ears beatrice blonde_hair blue_eyes blu...</td>\n",
       "    </tr>\n",
       "    <tr>\n",
       "      <th>9997</th>\n",
       "      <td>20999</td>\n",
       "      <td>77837</td>\n",
       "      <td>bob_cut bow cigarette durarara!! glasses heiwa...</td>\n",
       "    </tr>\n",
       "    <tr>\n",
       "      <th>9998</th>\n",
       "      <td>21000</td>\n",
       "      <td>77839</td>\n",
       "      <td>durarara!! glasses heiwajima_shizuo jacket jew...</td>\n",
       "    </tr>\n",
       "    <tr>\n",
       "      <th>9999</th>\n",
       "      <td>21001</td>\n",
       "      <td>77839</td>\n",
       "      <td>durarara!! glasses heiwajima_shizuo jacket jew...</td>\n",
       "    </tr>\n",
       "  </tbody>\n",
       "</table>\n",
       "<p>10000 rows × 3 columns</p>\n",
       "</div>"
      ],
      "text/plain": [
       "      number  idx_in_safebouru  \\\n",
       "0      11002             43287   \n",
       "1      11003             43292   \n",
       "2      11004             43310   \n",
       "3      11005             43310   \n",
       "4      11006             43321   \n",
       "...      ...               ...   \n",
       "9995   20997             77817   \n",
       "9996   20998             77820   \n",
       "9997   20999             77837   \n",
       "9998   21000             77839   \n",
       "9999   21001             77839   \n",
       "\n",
       "                                                   tags  \n",
       "0                  battle_angel_alita gally gunnm tagme  \n",
       "1            fujino_shizuru kuga_natsuki mai-hime tagme  \n",
       "2                             makai_tenshi_jibril tagme  \n",
       "3                             makai_tenshi_jibril tagme  \n",
       "4            .hack// kunisaki_rena kunisaki_shugo tagme  \n",
       "...                                                 ...  \n",
       "9995  bad_id bag brown_eyes brown_hair durarara!! ho...  \n",
       "9996  animal_ears beatrice blonde_hair blue_eyes blu...  \n",
       "9997  bob_cut bow cigarette durarara!! glasses heiwa...  \n",
       "9998  durarara!! glasses heiwajima_shizuo jacket jew...  \n",
       "9999  durarara!! glasses heiwajima_shizuo jacket jew...  \n",
       "\n",
       "[10000 rows x 3 columns]"
      ]
     },
     "execution_count": 39,
     "metadata": {},
     "output_type": "execute_result"
    }
   ],
   "source": [
    "df3"
   ]
  },
  {
   "cell_type": "code",
   "execution_count": 28,
   "metadata": {},
   "outputs": [
    {
     "data": {
      "text/html": [
       "<div>\n",
       "<style scoped>\n",
       "    .dataframe tbody tr th:only-of-type {\n",
       "        vertical-align: middle;\n",
       "    }\n",
       "\n",
       "    .dataframe tbody tr th {\n",
       "        vertical-align: top;\n",
       "    }\n",
       "\n",
       "    .dataframe thead th {\n",
       "        text-align: right;\n",
       "    }\n",
       "</style>\n",
       "<table border=\"1\" class=\"dataframe\">\n",
       "  <thead>\n",
       "    <tr style=\"text-align: right;\">\n",
       "      <th></th>\n",
       "      <th>number</th>\n",
       "      <th>idx_in_safebouru</th>\n",
       "      <th>tags</th>\n",
       "    </tr>\n",
       "  </thead>\n",
       "  <tbody>\n",
       "    <tr>\n",
       "      <th>0</th>\n",
       "      <td>0</td>\n",
       "      <td>4394</td>\n",
       "      <td>blush flat_chest food genderbender kiss koizum...</td>\n",
       "    </tr>\n",
       "    <tr>\n",
       "      <th>1</th>\n",
       "      <td>1</td>\n",
       "      <td>4396</td>\n",
       "      <td>alternate_hair_color cape closed_eyes dress et...</td>\n",
       "    </tr>\n",
       "    <tr>\n",
       "      <th>2</th>\n",
       "      <td>2</td>\n",
       "      <td>4402</td>\n",
       "      <td>2girls aqua_eyes blush bow brown_eyes brown_ha...</td>\n",
       "    </tr>\n",
       "    <tr>\n",
       "      <th>3</th>\n",
       "      <td>3</td>\n",
       "      <td>4405</td>\n",
       "      <td>blush breasts cheerleader elbow_gloves flat_ch...</td>\n",
       "    </tr>\n",
       "    <tr>\n",
       "      <th>4</th>\n",
       "      <td>4</td>\n",
       "      <td>4405</td>\n",
       "      <td>blush breasts cheerleader elbow_gloves flat_ch...</td>\n",
       "    </tr>\n",
       "    <tr>\n",
       "      <th>...</th>\n",
       "      <td>...</td>\n",
       "      <td>...</td>\n",
       "      <td>...</td>\n",
       "    </tr>\n",
       "    <tr>\n",
       "      <th>9995</th>\n",
       "      <td>9995</td>\n",
       "      <td>43274</td>\n",
       "      <td>angel bench chomo club_maniax feathers maid wings</td>\n",
       "    </tr>\n",
       "    <tr>\n",
       "      <th>9996</th>\n",
       "      <td>9996</td>\n",
       "      <td>43276</td>\n",
       "      <td>club_maniax elf kazutaka_takimiya tagme tzelem...</td>\n",
       "    </tr>\n",
       "    <tr>\n",
       "      <th>9997</th>\n",
       "      <td>9997</td>\n",
       "      <td>43278</td>\n",
       "      <td>club_maniax roof staff studio_sdt yuuki_tatsuya</td>\n",
       "    </tr>\n",
       "    <tr>\n",
       "      <th>9998</th>\n",
       "      <td>9998</td>\n",
       "      <td>43279</td>\n",
       "      <td>chibi kamichu music tagme</td>\n",
       "    </tr>\n",
       "    <tr>\n",
       "      <th>9999</th>\n",
       "      <td>9999</td>\n",
       "      <td>43279</td>\n",
       "      <td>chibi kamichu music tagme</td>\n",
       "    </tr>\n",
       "  </tbody>\n",
       "</table>\n",
       "<p>10000 rows × 3 columns</p>\n",
       "</div>"
      ],
      "text/plain": [
       "      number  idx_in_safebouru  \\\n",
       "0          0              4394   \n",
       "1          1              4396   \n",
       "2          2              4402   \n",
       "3          3              4405   \n",
       "4          4              4405   \n",
       "...      ...               ...   \n",
       "9995    9995             43274   \n",
       "9996    9996             43276   \n",
       "9997    9997             43278   \n",
       "9998    9998             43279   \n",
       "9999    9999             43279   \n",
       "\n",
       "                                                   tags  \n",
       "0     blush flat_chest food genderbender kiss koizum...  \n",
       "1     alternate_hair_color cape closed_eyes dress et...  \n",
       "2     2girls aqua_eyes blush bow brown_eyes brown_ha...  \n",
       "3     blush breasts cheerleader elbow_gloves flat_ch...  \n",
       "4     blush breasts cheerleader elbow_gloves flat_ch...  \n",
       "...                                                 ...  \n",
       "9995  angel bench chomo club_maniax feathers maid wings  \n",
       "9996  club_maniax elf kazutaka_takimiya tagme tzelem...  \n",
       "9997    club_maniax roof staff studio_sdt yuuki_tatsuya  \n",
       "9998                          chibi kamichu music tagme  \n",
       "9999                          chibi kamichu music tagme  \n",
       "\n",
       "[10000 rows x 3 columns]"
      ]
     },
     "execution_count": 28,
     "metadata": {},
     "output_type": "execute_result"
    }
   ],
   "source": [
    "df2"
   ]
  },
  {
   "cell_type": "code",
   "execution_count": 31,
   "metadata": {},
   "outputs": [
    {
     "data": {
      "text/plain": [
       "Exception"
      ]
     },
     "execution_count": 31,
     "metadata": {},
     "output_type": "execute_result"
    }
   ],
   "source": [
    "Exception"
   ]
  },
  {
   "cell_type": "code",
   "execution_count": null,
   "metadata": {},
   "outputs": [],
   "source": []
  }
 ],
 "metadata": {
  "kernelspec": {
   "display_name": "Python 3",
   "language": "python",
   "name": "python3"
  },
  "language_info": {
   "codemirror_mode": {
    "name": "ipython",
    "version": 3
   },
   "file_extension": ".py",
   "mimetype": "text/x-python",
   "name": "python",
   "nbconvert_exporter": "python",
   "pygments_lexer": "ipython3",
   "version": "3.7.4"
  }
 },
 "nbformat": 4,
 "nbformat_minor": 2
}
